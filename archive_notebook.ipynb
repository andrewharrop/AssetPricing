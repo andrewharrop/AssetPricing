{
 "cells": [
  {
   "cell_type": "code",
   "execution_count": 1,
   "metadata": {},
   "outputs": [],
   "source": [
    "import sys\n",
    "import datetime\n",
    "sys.path.append('./formulas')\n",
    "sys.path.append('./data')\n",
    "\n",
    "from optionchain import option_chain\n",
    "from option import option_parser\n",
    "from blackscholes import call, put"
   ]
  },
  {
   "cell_type": "code",
   "execution_count": 2,
   "metadata": {},
   "outputs": [],
   "source": [
    "def chain_processor(t, ticker):\n",
    "    calls = t[0]\n",
    "    puts = t[1]\n",
    "    beta = t[2] or 1\n",
    "    price = t[3]\n",
    "    calls_table = {}\n",
    "    for table in calls:\n",
    "        for index, row in table.iterrows():\n",
    "            meta = option_parser(row['contractSymbol'], ticker)\n",
    "            last_price = max(row['lastPrice'], row['ask'])\n",
    "            year, month, day, instr_type, strike = meta\n",
    "            time = (datetime.datetime(int(f\"20{year}\"), int(month), int(day)) - datetime.datetime.now()).days / 365\n",
    "            if instr_type == 'C':\n",
    "                if str(year)+str(month)+str(day) not in calls_table:\n",
    "                    calls_table[str(year)+str(month)+str(day)] = {}\n",
    "                calls_table[str(year)+str(month)+str(day)][strike] = call(price, strike, 0.05, beta, time), last_price\n",
    "\n",
    "    puts_table = {}\n",
    "    for table in puts:\n",
    "        for index, row in table.iterrows():\n",
    "            meta = option_parser(row['contractSymbol'], ticker)\n",
    "            last_price = max(row['lastPrice'], row['ask'])\n",
    "            year, month, day, instr_type, strike = meta\n",
    "            time = (datetime.datetime(int(f\"20{year}\"), int(month), int(day)) - datetime.datetime.now()).days / 365\n",
    "            if instr_type == 'P':\n",
    "                if str(year)+str(month)+str(day) not in puts_table:\n",
    "                    puts_table[str(year)+str(month)+str(day)] = {}\n",
    "                puts_table[str(year)+str(month)+str(day)][strike] = put(price, strike, 0.05, beta, time), last_price\n",
    "\n",
    "    # Find the cheapest straddles\n",
    "    straddles = {}\n",
    "    for date in calls_table:\n",
    "        straddles[date] = {}\n",
    "        for strike in calls_table[date]:\n",
    "            if date in puts_table:\n",
    "                if strike in puts_table[date]:\n",
    "                    straddles[date][strike] = calls_table[date][strike][0] + puts_table[date][strike][0], calls_table[date][strike][1] + puts_table[date][strike][1]\n",
    "\n",
    "\n",
    "    # Formatting\n",
    "    slist = []\n",
    "    for date in straddles:\n",
    "        for strike in straddles[date]:\n",
    "            percent_diff = (straddles[date][strike][0] - straddles[date][strike][1]) / straddles[date][strike][1]\n",
    "            predicted = straddles[date][strike][0]\n",
    "            slist.append((date, strike, straddles[date][strike][0], straddles[date][strike][1], percent_diff))\n",
    "    slist.sort(key=lambda x: -x[4])\n",
    "\n",
    "    return slist"
   ]
  },
  {
   "cell_type": "code",
   "execution_count": 3,
   "metadata": {},
   "outputs": [
    {
     "name": "stdout",
     "output_type": "stream",
     "text": [
      "WARNING: No decryption keys could be extracted from JS file. Falling back to backup decrypt methods.\n",
      "Finished RY\n",
      "WARNING: No decryption keys could be extracted from JS file. Falling back to backup decrypt methods.\n",
      "Failed to get option chain for TD\n",
      "WARNING: No decryption keys could be extracted from JS file. Falling back to backup decrypt methods.\n",
      "Finished ENB\n",
      "WARNING: No decryption keys could be extracted from JS file. Falling back to backup decrypt methods.\n",
      "- CNR: No summary info found, symbol may be delisted\n",
      "Failed to get option chain for CNR\n",
      "WARNING: No decryption keys could be extracted from JS file. Falling back to backup decrypt methods.\n",
      "Finished CP\n",
      "WARNING: No decryption keys could be extracted from JS file. Falling back to backup decrypt methods.\n"
     ]
    }
   ],
   "source": [
    "tickers = open(\"/Users/andrew/Projects/arbitrage-finance/tst.txt\", \"r\").read().splitlines()\n",
    "name = \"tsx3\" #tickers[0]\n",
    "oc_ = []\n",
    "with open(name + 'rusful.csv', 'w') as f:\n",
    "    with open(name + 'rusfar.csv', 'w') as f2:\n",
    "        f.write(\"ticker,date,strike,predicted,actual,percent_diff\")\n",
    "        f2.write(\"ticker,date,strike,predicted,actual,percent_diff\")\n",
    "        # New line\n",
    "        f.write(\"\\n\")\n",
    "        f2.write(\"\\n\")\n",
    "        for ticker in tickers:\n",
    "            ticker = ticker\n",
    "            try:\n",
    "                c = option_chain(ticker)\n",
    "                oc_.append((c, ticker))\n",
    "                tlist = chain_processor(c, ticker)\n",
    "                for t in tlist:\n",
    "                    f.write(f\"{ticker},{t[0]},{t[1]},{t[2]},{t[3]},{t[4]}\")\n",
    "                    # New line\n",
    "                    f.write(\"\\n\")\n",
    "                    if t[0][:2] != '22':\n",
    "                        f2.write(f\"{ticker},{t[0]},{t[1]},{t[2]},{t[3]},{t[4]}\")\n",
    "                        # New line\n",
    "                        f2.write(\"\\n\")\n",
    "                \n",
    "                print(f\"Finished {ticker}\")\n",
    "                \n",
    "\n",
    "            except:\n",
    "                print(f'Failed to get option chain for {ticker}')\n"
   ]
  },
  {
   "cell_type": "code",
   "execution_count": 20,
   "metadata": {},
   "outputs": [
    {
     "ename": "NameError",
     "evalue": "name 't' is not defined",
     "output_type": "error",
     "traceback": [
      "\u001b[0;31m---------------------------------------------------------------------------\u001b[0m",
      "\u001b[0;31mNameError\u001b[0m                                 Traceback (most recent call last)",
      "\u001b[0;32m/var/folders/cn/b7hd5xd92dx4l2mj48c08x440000gn/T/ipykernel_65138/3492606831.py\u001b[0m in \u001b[0;36m<module>\u001b[0;34m\u001b[0m\n\u001b[0;32m----> 1\u001b[0;31m \u001b[0mcalls\u001b[0m \u001b[0;34m=\u001b[0m \u001b[0mt\u001b[0m\u001b[0;34m[\u001b[0m\u001b[0;36m0\u001b[0m\u001b[0;34m]\u001b[0m\u001b[0;34m\u001b[0m\u001b[0;34m\u001b[0m\u001b[0m\n\u001b[0m\u001b[1;32m      2\u001b[0m \u001b[0mputs\u001b[0m \u001b[0;34m=\u001b[0m \u001b[0mt\u001b[0m\u001b[0;34m[\u001b[0m\u001b[0;36m1\u001b[0m\u001b[0;34m]\u001b[0m\u001b[0;34m\u001b[0m\u001b[0;34m\u001b[0m\u001b[0m\n\u001b[1;32m      3\u001b[0m \u001b[0mbeta\u001b[0m \u001b[0;34m=\u001b[0m \u001b[0mt\u001b[0m\u001b[0;34m[\u001b[0m\u001b[0;36m2\u001b[0m\u001b[0;34m]\u001b[0m \u001b[0;32mor\u001b[0m \u001b[0;36m1\u001b[0m\u001b[0;34m\u001b[0m\u001b[0;34m\u001b[0m\u001b[0m\n\u001b[1;32m      4\u001b[0m \u001b[0mprice\u001b[0m \u001b[0;34m=\u001b[0m \u001b[0mt\u001b[0m\u001b[0;34m[\u001b[0m\u001b[0;36m3\u001b[0m\u001b[0;34m]\u001b[0m\u001b[0;34m\u001b[0m\u001b[0;34m\u001b[0m\u001b[0m\n\u001b[1;32m      5\u001b[0m \u001b[0mcalls_table\u001b[0m \u001b[0;34m=\u001b[0m \u001b[0;34m{\u001b[0m\u001b[0;34m}\u001b[0m\u001b[0;34m\u001b[0m\u001b[0;34m\u001b[0m\u001b[0m\n",
      "\u001b[0;31mNameError\u001b[0m: name 't' is not defined"
     ]
    }
   ],
   "source": [
    "calls = t[0]\n",
    "puts = t[1]\n",
    "beta = t[2] or 1\n",
    "price = t[3]\n",
    "calls_table = {}\n",
    "for table in calls:\n",
    "    for index, row in table.iterrows():\n",
    "        meta = option_parser(row['contractSymbol'], ticker)\n",
    "        last_price = row['lastPrice']\n",
    "        year, month, day, instr_type, strike = meta\n",
    "        time = (datetime.datetime(int(f\"20{year}\"), int(month), int(day)) - datetime.datetime.now()).days / 365\n",
    "        if instr_type == 'C':\n",
    "            if str(year)+str(month)+str(day) not in calls_table:\n",
    "                calls_table[str(year)+str(month)+str(day)] = {}\n",
    "            calls_table[str(year)+str(month)+str(day)][strike] = call(price, strike, 0.05, beta, time), last_price\n",
    "\n",
    "puts_table = {}\n",
    "for table in puts:\n",
    "    for index, row in table.iterrows():\n",
    "        meta = option_parser(row['contractSymbol'], ticker)\n",
    "        last_price = row['lastPrice']\n",
    "        year, month, day, instr_type, strike = meta\n",
    "        time = (datetime.datetime(int(f\"20{year}\"), int(month), int(day)) - datetime.datetime.now()).days / 365\n",
    "        if instr_type == 'P':\n",
    "            if str(year)+str(month)+str(day) not in puts_table:\n",
    "                puts_table[str(year)+str(month)+str(day)] = {}\n",
    "            puts_table[str(year)+str(month)+str(day)][strike] = put(price, strike, 0.05, beta, time), last_price\n",
    "\n",
    "# Find the cheapest straddles\n",
    "straddles = {}\n",
    "for date in calls_table:\n",
    "    straddles[date] = {}\n",
    "    for strike in calls_table[date]:\n",
    "        if date in puts_table:\n",
    "            if strike in puts_table[date]:\n",
    "                straddles[date][strike] = calls_table[date][strike][0] + puts_table[date][strike][0], calls_table[date][strike][1] + puts_table[date][strike][1]\n",
    "\n",
    "\n",
    "# Find the cheapest straddles\n",
    "slist = []\n",
    "for date in straddles:\n",
    "    for strike in straddles[date]:\n",
    "        percent_diff = (straddles[date][strike][0] - straddles[date][strike][1]) / straddles[date][strike][1]\n",
    "        predicted = straddles[date][strike][0]\n",
    "        slist.append((date, strike, straddles[date][strike][0], straddles[date][strike][1], percent_diff))\n",
    "slist.sort(key=lambda x: -x[4])\n",
    "# everything that is not in 2022\n",
    "leaplist = [x for x in slist if x[0][:2] != '22']"
   ]
  },
  {
   "cell_type": "code",
   "execution_count": null,
   "metadata": {},
   "outputs": [],
   "source": [
    "for i in range(max(30, len(leaplist))-1):\n",
    "    print(\"Date:\", leaplist[i][0], \"Strike:\", leaplist[i][1], \"Black Scholes pricing:\", leaplist[i][2], \"Last Price:\", leaplist[i][3], \"Percent Difference:\", leaplist[i][4]*100, \"%\")"
   ]
  },
  {
   "cell_type": "code",
   "execution_count": null,
   "metadata": {},
   "outputs": [],
   "source": [
    "for l in slist:\n",
    "    print(l)"
   ]
  }
 ],
 "metadata": {
  "kernelspec": {
   "display_name": "base",
   "language": "python",
   "name": "python3"
  },
  "language_info": {
   "codemirror_mode": {
    "name": "ipython",
    "version": 3
   },
   "file_extension": ".py",
   "mimetype": "text/x-python",
   "name": "python",
   "nbconvert_exporter": "python",
   "pygments_lexer": "ipython3",
   "version": "3.9.7"
  },
  "orig_nbformat": 4,
  "vscode": {
   "interpreter": {
    "hash": "6ba916f278725abf7eff3b0ceb1f08835ef39f267b76416c5b8fd316147ba4a5"
   }
  }
 },
 "nbformat": 4,
 "nbformat_minor": 2
}
